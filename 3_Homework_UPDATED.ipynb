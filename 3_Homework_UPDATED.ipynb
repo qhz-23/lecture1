{
  "cells": [
    {
      "cell_type": "markdown",
      "metadata": {
        "id": "view-in-github",
        "colab_type": "text"
      },
      "source": [
        "<a href=\"https://colab.research.google.com/github/qhz-23/lecture1/blob/main/3_Homework_UPDATED.ipynb\" target=\"_parent\"><img src=\"https://colab.research.google.com/assets/colab-badge.svg\" alt=\"Open In Colab\"/></a>"
      ]
    },
    {
      "cell_type": "code",
      "execution_count": 1,
      "id": "55621e94",
      "metadata": {
        "colab": {
          "base_uri": "https://localhost:8080/"
        },
        "id": "55621e94",
        "outputId": "8a2dd8fc-99e8-4592-d7b1-05f7f62b4ecc"
      },
      "outputs": [
        {
          "output_type": "stream",
          "name": "stdout",
          "text": [
            "Mounted at /content/gdrive/\n"
          ]
        }
      ],
      "source": [
        "import pandas as pd\n",
        "from google.colab import drive\n",
        "drive.mount('/content/gdrive/', force_remount = True)"
      ]
    },
    {
      "cell_type": "markdown",
      "id": "a055ebb7",
      "metadata": {
        "id": "a055ebb7"
      },
      "source": [
        "# 1.) Clean the Apple Data to get a quarterly series of EPS."
      ]
    },
    {
      "cell_type": "code",
      "execution_count": 4,
      "id": "365b253b",
      "metadata": {
        "id": "365b253b"
      },
      "outputs": [],
      "source": [
        "y = pd.read_csv(\"/content/gdrive/MyDrive/Econ441B/AAPL_quarterly_financials.csv\")"
      ]
    },
    {
      "cell_type": "code",
      "execution_count": 5,
      "id": "8932850f",
      "metadata": {
        "id": "8932850f"
      },
      "outputs": [],
      "source": [
        "y.index = y.name"
      ]
    },
    {
      "cell_type": "code",
      "execution_count": 6,
      "id": "449862e7",
      "metadata": {
        "id": "449862e7"
      },
      "outputs": [],
      "source": [
        "y = pd.DataFrame(y.loc[\"BasicEPS\", :]).iloc[2:,:]"
      ]
    },
    {
      "cell_type": "code",
      "execution_count": 7,
      "id": "c39e6c1d",
      "metadata": {
        "id": "c39e6c1d"
      },
      "outputs": [],
      "source": [
        "y.index = pd.to_datetime(y.index)"
      ]
    },
    {
      "cell_type": "code",
      "execution_count": 8,
      "id": "15452f18",
      "metadata": {
        "id": "15452f18"
      },
      "outputs": [],
      "source": [
        "# CHECK IF NAS ARE NO DIVIDEND PERIOD\n",
        "y = y.sort_index().fillna(0.)"
      ]
    },
    {
      "cell_type": "markdown",
      "id": "f660ca3c",
      "metadata": {
        "id": "f660ca3c"
      },
      "source": [
        "# 2.) Come up with 6 search terms you think could nowcast earnings. (Different than the ones I used) Add in 3 terms that that you think will not Nowcast earnings. Pull in the gtrends data"
      ]
    },
    {
      "cell_type": "code",
      "source": [
        "!pip install pytrends"
      ],
      "metadata": {
        "colab": {
          "base_uri": "https://localhost:8080/"
        },
        "id": "-F-nFExk6ALO",
        "outputId": "11bc3893-ca88-40ca-c2d4-45fe2ad2af70"
      },
      "id": "-F-nFExk6ALO",
      "execution_count": 10,
      "outputs": [
        {
          "output_type": "stream",
          "name": "stdout",
          "text": [
            "Collecting pytrends\n",
            "  Downloading pytrends-4.9.2-py3-none-any.whl (15 kB)\n",
            "Requirement already satisfied: requests>=2.0 in /usr/local/lib/python3.10/dist-packages (from pytrends) (2.31.0)\n",
            "Requirement already satisfied: pandas>=0.25 in /usr/local/lib/python3.10/dist-packages (from pytrends) (1.5.3)\n",
            "Requirement already satisfied: lxml in /usr/local/lib/python3.10/dist-packages (from pytrends) (4.9.4)\n",
            "Requirement already satisfied: python-dateutil>=2.8.1 in /usr/local/lib/python3.10/dist-packages (from pandas>=0.25->pytrends) (2.8.2)\n",
            "Requirement already satisfied: pytz>=2020.1 in /usr/local/lib/python3.10/dist-packages (from pandas>=0.25->pytrends) (2023.3.post1)\n",
            "Requirement already satisfied: numpy>=1.21.0 in /usr/local/lib/python3.10/dist-packages (from pandas>=0.25->pytrends) (1.23.5)\n",
            "Requirement already satisfied: charset-normalizer<4,>=2 in /usr/local/lib/python3.10/dist-packages (from requests>=2.0->pytrends) (3.3.2)\n",
            "Requirement already satisfied: idna<4,>=2.5 in /usr/local/lib/python3.10/dist-packages (from requests>=2.0->pytrends) (3.6)\n",
            "Requirement already satisfied: urllib3<3,>=1.21.1 in /usr/local/lib/python3.10/dist-packages (from requests>=2.0->pytrends) (2.0.7)\n",
            "Requirement already satisfied: certifi>=2017.4.17 in /usr/local/lib/python3.10/dist-packages (from requests>=2.0->pytrends) (2023.11.17)\n",
            "Requirement already satisfied: six>=1.5 in /usr/local/lib/python3.10/dist-packages (from python-dateutil>=2.8.1->pandas>=0.25->pytrends) (1.16.0)\n",
            "Installing collected packages: pytrends\n",
            "Successfully installed pytrends-4.9.2\n"
          ]
        }
      ]
    },
    {
      "cell_type": "code",
      "execution_count": 32,
      "id": "101a8370",
      "metadata": {
        "id": "101a8370"
      },
      "outputs": [],
      "source": [
        "from pytrends.request import TrendReq"
      ]
    },
    {
      "cell_type": "code",
      "execution_count": 33,
      "id": "715787dd",
      "metadata": {
        "id": "715787dd"
      },
      "outputs": [],
      "source": [
        "# Create pytrends object\n",
        "pytrends = TrendReq(hl='en-US', tz=360)\n",
        "\n",
        "# Set up the keywords and the timeframe\n",
        "keywords = [\"iPad\", \"Economy\", \"Huawei\", \"Macro\", \"Phone\", \"Mac\", \"Hamburger\", \"Bruin\", \"Grizzly bear\"]\n",
        "start_date = '2004-01-01'\n",
        "end_date = '2024-01-01'\n",
        "\n",
        "# Create an empty DataFrame to store the results\n",
        "df = pd.DataFrame()\n",
        "\n",
        "# Iterate through keywords and fetch data\n",
        "for keyword in keywords:\n",
        "    pytrends.build_payload([keyword], cat=0, timeframe=f'{start_date} {end_date}', geo='', gprop='')\n",
        "    interest_over_time_df = pytrends.interest_over_time()\n",
        "    df[keyword] = interest_over_time_df[keyword]"
      ]
    },
    {
      "cell_type": "code",
      "execution_count": 34,
      "id": "22bbb744",
      "metadata": {
        "id": "22bbb744"
      },
      "outputs": [],
      "source": [
        "df = df.resample(\"Q\").mean()"
      ]
    },
    {
      "cell_type": "code",
      "source": [
        "X = df"
      ],
      "metadata": {
        "id": "j1suhcj0XMl9"
      },
      "id": "j1suhcj0XMl9",
      "execution_count": 39,
      "outputs": []
    },
    {
      "cell_type": "code",
      "execution_count": 40,
      "id": "c925f043",
      "metadata": {
        "id": "c925f043"
      },
      "outputs": [],
      "source": [
        "# ALIGN DATA\n",
        "temp = pd.concat([y, X],axis = 1).dropna()\n",
        "y = temp[[\"BasicEPS\"]].copy()\n",
        "X = temp.iloc[:,1:].copy()"
      ]
    },
    {
      "cell_type": "markdown",
      "id": "863d55e4",
      "metadata": {
        "id": "863d55e4"
      },
      "source": [
        "# 3.) Normalize all the X data"
      ]
    },
    {
      "cell_type": "code",
      "execution_count": 16,
      "id": "8325a0f4",
      "metadata": {
        "id": "8325a0f4"
      },
      "outputs": [],
      "source": [
        "from sklearn.preprocessing import StandardScaler"
      ]
    },
    {
      "cell_type": "code",
      "execution_count": 17,
      "id": "bc2504ab",
      "metadata": {
        "id": "bc2504ab"
      },
      "outputs": [],
      "source": [
        "scaler = StandardScaler()"
      ]
    },
    {
      "cell_type": "code",
      "source": [
        "X_scaled = scaler.fit_transform(df)"
      ],
      "metadata": {
        "id": "4O-TDFTQ6TVx"
      },
      "id": "4O-TDFTQ6TVx",
      "execution_count": 24,
      "outputs": []
    },
    {
      "cell_type": "markdown",
      "id": "925f79f5",
      "metadata": {
        "id": "925f79f5"
      },
      "source": [
        "# 4.) Run a Lasso with lambda of .5. Plot a bar chart."
      ]
    },
    {
      "cell_type": "code",
      "execution_count": 20,
      "id": "d829a004",
      "metadata": {
        "id": "d829a004"
      },
      "outputs": [],
      "source": [
        "from sklearn.linear_model import Lasso"
      ]
    },
    {
      "cell_type": "code",
      "execution_count": 21,
      "id": "5e19efe6",
      "metadata": {
        "id": "5e19efe6"
      },
      "outputs": [],
      "source": [
        "lasso = Lasso(alpha = 0.5)"
      ]
    },
    {
      "cell_type": "code",
      "execution_count": 45,
      "id": "ec86dbde",
      "metadata": {
        "colab": {
          "base_uri": "https://localhost:8080/",
          "height": 75
        },
        "id": "ec86dbde",
        "outputId": "db0b9954-dc37-446c-caf0-7f3844af94cd"
      },
      "outputs": [
        {
          "output_type": "execute_result",
          "data": {
            "text/plain": [
              "Lasso(alpha=0.5)"
            ],
            "text/html": [
              "<style>#sk-container-id-2 {color: black;background-color: white;}#sk-container-id-2 pre{padding: 0;}#sk-container-id-2 div.sk-toggleable {background-color: white;}#sk-container-id-2 label.sk-toggleable__label {cursor: pointer;display: block;width: 100%;margin-bottom: 0;padding: 0.3em;box-sizing: border-box;text-align: center;}#sk-container-id-2 label.sk-toggleable__label-arrow:before {content: \"▸\";float: left;margin-right: 0.25em;color: #696969;}#sk-container-id-2 label.sk-toggleable__label-arrow:hover:before {color: black;}#sk-container-id-2 div.sk-estimator:hover label.sk-toggleable__label-arrow:before {color: black;}#sk-container-id-2 div.sk-toggleable__content {max-height: 0;max-width: 0;overflow: hidden;text-align: left;background-color: #f0f8ff;}#sk-container-id-2 div.sk-toggleable__content pre {margin: 0.2em;color: black;border-radius: 0.25em;background-color: #f0f8ff;}#sk-container-id-2 input.sk-toggleable__control:checked~div.sk-toggleable__content {max-height: 200px;max-width: 100%;overflow: auto;}#sk-container-id-2 input.sk-toggleable__control:checked~label.sk-toggleable__label-arrow:before {content: \"▾\";}#sk-container-id-2 div.sk-estimator input.sk-toggleable__control:checked~label.sk-toggleable__label {background-color: #d4ebff;}#sk-container-id-2 div.sk-label input.sk-toggleable__control:checked~label.sk-toggleable__label {background-color: #d4ebff;}#sk-container-id-2 input.sk-hidden--visually {border: 0;clip: rect(1px 1px 1px 1px);clip: rect(1px, 1px, 1px, 1px);height: 1px;margin: -1px;overflow: hidden;padding: 0;position: absolute;width: 1px;}#sk-container-id-2 div.sk-estimator {font-family: monospace;background-color: #f0f8ff;border: 1px dotted black;border-radius: 0.25em;box-sizing: border-box;margin-bottom: 0.5em;}#sk-container-id-2 div.sk-estimator:hover {background-color: #d4ebff;}#sk-container-id-2 div.sk-parallel-item::after {content: \"\";width: 100%;border-bottom: 1px solid gray;flex-grow: 1;}#sk-container-id-2 div.sk-label:hover label.sk-toggleable__label {background-color: #d4ebff;}#sk-container-id-2 div.sk-serial::before {content: \"\";position: absolute;border-left: 1px solid gray;box-sizing: border-box;top: 0;bottom: 0;left: 50%;z-index: 0;}#sk-container-id-2 div.sk-serial {display: flex;flex-direction: column;align-items: center;background-color: white;padding-right: 0.2em;padding-left: 0.2em;position: relative;}#sk-container-id-2 div.sk-item {position: relative;z-index: 1;}#sk-container-id-2 div.sk-parallel {display: flex;align-items: stretch;justify-content: center;background-color: white;position: relative;}#sk-container-id-2 div.sk-item::before, #sk-container-id-2 div.sk-parallel-item::before {content: \"\";position: absolute;border-left: 1px solid gray;box-sizing: border-box;top: 0;bottom: 0;left: 50%;z-index: -1;}#sk-container-id-2 div.sk-parallel-item {display: flex;flex-direction: column;z-index: 1;position: relative;background-color: white;}#sk-container-id-2 div.sk-parallel-item:first-child::after {align-self: flex-end;width: 50%;}#sk-container-id-2 div.sk-parallel-item:last-child::after {align-self: flex-start;width: 50%;}#sk-container-id-2 div.sk-parallel-item:only-child::after {width: 0;}#sk-container-id-2 div.sk-dashed-wrapped {border: 1px dashed gray;margin: 0 0.4em 0.5em 0.4em;box-sizing: border-box;padding-bottom: 0.4em;background-color: white;}#sk-container-id-2 div.sk-label label {font-family: monospace;font-weight: bold;display: inline-block;line-height: 1.2em;}#sk-container-id-2 div.sk-label-container {text-align: center;}#sk-container-id-2 div.sk-container {/* jupyter's `normalize.less` sets `[hidden] { display: none; }` but bootstrap.min.css set `[hidden] { display: none !important; }` so we also need the `!important` here to be able to override the default hidden behavior on the sphinx rendered scikit-learn.org. See: https://github.com/scikit-learn/scikit-learn/issues/21755 */display: inline-block !important;position: relative;}#sk-container-id-2 div.sk-text-repr-fallback {display: none;}</style><div id=\"sk-container-id-2\" class=\"sk-top-container\"><div class=\"sk-text-repr-fallback\"><pre>Lasso(alpha=0.5)</pre><b>In a Jupyter environment, please rerun this cell to show the HTML representation or trust the notebook. <br />On GitHub, the HTML representation is unable to render, please try loading this page with nbviewer.org.</b></div><div class=\"sk-container\" hidden><div class=\"sk-item\"><div class=\"sk-estimator sk-toggleable\"><input class=\"sk-toggleable__control sk-hidden--visually\" id=\"sk-estimator-id-2\" type=\"checkbox\" checked><label for=\"sk-estimator-id-2\" class=\"sk-toggleable__label sk-toggleable__label-arrow\">Lasso</label><div class=\"sk-toggleable__content\"><pre>Lasso(alpha=0.5)</pre></div></div></div></div></div>"
            ]
          },
          "metadata": {},
          "execution_count": 45
        }
      ],
      "source": [
        "lasso.fit(X, y)"
      ]
    },
    {
      "cell_type": "code",
      "execution_count": 46,
      "id": "fd87f09b",
      "metadata": {
        "colab": {
          "base_uri": "https://localhost:8080/"
        },
        "id": "fd87f09b",
        "outputId": "e8b9fb35-1296-45fa-f7d9-4037cff1942f"
      },
      "outputs": [
        {
          "output_type": "stream",
          "name": "stdout",
          "text": [
            "[ 0.00339102 -0.          0.         -0.00701401 -0.         -0.01934035\n",
            " -0.01372071 -0.         -0.        ]\n"
          ]
        }
      ],
      "source": [
        "coefficients = lasso.coef_\n",
        "print(coefficients)"
      ]
    },
    {
      "cell_type": "code",
      "source": [
        "import matplotlib.pyplot as plt"
      ],
      "metadata": {
        "id": "s7kpsJWLXhud"
      },
      "id": "s7kpsJWLXhud",
      "execution_count": 47,
      "outputs": []
    },
    {
      "cell_type": "code",
      "source": [
        "feature_names = df.columns"
      ],
      "metadata": {
        "id": "LIWRWbU0Xscb"
      },
      "id": "LIWRWbU0Xscb",
      "execution_count": 51,
      "outputs": []
    },
    {
      "cell_type": "code",
      "execution_count": 52,
      "id": "c54e8a3d",
      "metadata": {
        "colab": {
          "base_uri": "https://localhost:8080/",
          "height": 445
        },
        "id": "c54e8a3d",
        "outputId": "ab57d06e-57d1-411e-846d-3258e1b88d27"
      },
      "outputs": [
        {
          "output_type": "display_data",
          "data": {
            "text/plain": [
              "<Figure size 1200x500 with 1 Axes>"
            ],
            "image/png": "[encoded data removed]"
          },
          "metadata": {}
        }
      ],
      "source": [
        "plt.figure(figsize = (12,5))\n",
        "plt.bar(range(len(coefficients)), coefficients,tick_label = feature_names)\n",
        "plt.axhline(0, color = \"red\")\n",
        "plt.show()"
      ]
    },
    {
      "cell_type": "markdown",
      "id": "96278b34",
      "metadata": {
        "id": "96278b34"
      },
      "source": [
        "# 5.) Do these coefficient magnitudes make sense?"
      ]
    },
    {
      "cell_type": "markdown",
      "source": [
        "Most of the features have coefficients that are zero or very close to zero. This indicates that the Lasso regression model did not find these features to be informative for the prediction task at hand, under the regularization strength specified by the lambda value of 0.5. Therefore, these variables shoudl be removed."
      ],
      "metadata": {
        "id": "SKVxxppDX821"
      },
      "id": "SKVxxppDX821"
    }
  ],
  "metadata": {
    "kernelspec": {
      "display_name": "Python 3 (ipykernel)",
      "language": "python",
      "name": "python3"
    },
    "language_info": {
      "codemirror_mode": {
        "name": "ipython",
        "version": 3
      },
      "file_extension": ".py",
      "mimetype": "text/x-python",
      "name": "python",
      "nbconvert_exporter": "python",
      "pygments_lexer": "ipython3",
      "version": "3.8.12"
    },
    "colab": {
      "provenance": [],
      "include_colab_link": true
    }
  },
  "nbformat": 4,
  "nbformat_minor": 5
}